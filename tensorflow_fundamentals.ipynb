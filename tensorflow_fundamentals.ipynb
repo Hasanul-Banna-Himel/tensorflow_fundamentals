{
 "cells": [
  {
   "cell_type": "markdown",
   "metadata": {},
   "source": [
    "# TensorFlow Fundamentals: Your First Steps into Hands-on Deep Learning\n",
    "\n",
    "Welcome! In this notebook, we'll explore the basics of TensorFlow tensors, operations, reshaping, and more."
   ]
  },
  {
   "cell_type": "markdown",
   "metadata": {},
   "source": [
    "## What are Tensors?\n",
    "\n",
    "Tensors are multi-dimensional arrays — the basic data structure in TensorFlow. Think of them as generalizations of scalars, vectors, and matrices."
   ]
  },
  {
   "cell_type": "code",
   "metadata": {},
   "source": [
    "import tensorflow as tf\n",
    "print(\"TensorFlow version:\", tf.__version__)"
   ],
   "execution_count": null,
   "outputs": []
  },
  {
   "cell_type": "markdown",
   "metadata": {},
   "source": [
    "## Tensor Initialization\n",
    "\n",
    "Let's create some basic tensors."
   ]
  },
  {
   "cell_type": "code",
   "metadata": {},
   "source": [
    "# Scalar\n",
    "scalar = tf.constant(7)\n",
    "print(\"Scalar:\", scalar)\n",
    "\n",
    "# Vector\n",
    "vector = tf.constant([1.0, 2.0, 3.0])\n",
    "print(\"Vector:\", vector)\n",
    "\n",
    "# Matrix\n",
    "matrix = tf.constant([[1, 2], [3, 4]])\n",
    "print(\"Matrix:\", matrix)\n",
    "\n",
    "# 3D Tensor\n",
    "tensor3d = tf.constant([[[1, 2], [3, 4]], [[5, 6], [7, 8]]])\n",
    "print(\"3D Tensor:\", tensor3d)"
   ],
   "execution_count": null,
   "outputs": []
  },
  {
   "cell_type": "markdown",
   "metadata": {},
   "source": [
    "## Common Tensor Creation Methods"
   ]
  },
  {
   "cell_type": "code",
   "metadata": {},
   "source": [
    "zeros = tf.zeros([2, 3])\n",
    "ones = tf.ones([2, 3])\n",
    "random_tensor = tf.random.uniform(shape=[2, 3], minval=0, maxval=10)\n",
    "\n",
    "print(\"Zeros:\", zeros)\n",
    "print(\"Ones:\", ones)\n",
    "print(\"Random Tensor:\", random_tensor)"
   ],
   "execution_count": null,
   "outputs": []
  },
  {
   "cell_type": "markdown",
   "metadata": {},
   "source": [
    "## Tensor Data Types and Casting"
   ]
  },
  {
   "cell_type": "code",
   "metadata": {},
   "source": [
    "float_tensor = tf.cast(tf.constant([1, 2, 3]), dtype=tf.float32)\n",
    "print(\"Float Tensor:\", float_tensor)"
   ],
   "execution_count": null,
   "outputs": []
  },
  {
   "cell_type": "markdown",
   "metadata": {},
   "source": [
    "## Converting Between NumPy Arrays and Tensors"
   ]
  },
  {
   "cell_type": "code",
   "metadata": {},
   "source": [
    "import numpy as np\n",
    "\n",
    "array = np.array([5, 6, 7])\n",
    "tensor_from_array = tf.convert_to_tensor(array)\n",
    "back_to_array = tensor_from_array.numpy()\n",
    "\n",
    "print(\"Tensor from NumPy:\", tensor_from_array)\n",
    "print(\"Back to NumPy:\", back_to_array)"
   ],
   "execution_count": null,
   "outputs": []
  },
  {
   "cell_type": "markdown",
   "metadata": {},
   "source": [
    "## Tensor Arithmetic and Comparison Operations"
   ]
  },
  {
   "cell_type": "code",
   "metadata": {},
   "source": [
    "a = tf.constant([1, 2, 3])\n",
    "b = tf.constant([4, 5, 6])\n",
    "\n",
    "add = a + b\n",
    "mul = a * b\n",
    "greater = a > b\n",
    "\n",
    "print(\"Add:\", add)\n",
    "print(\"Multiply:\", mul)\n",
    "print(\"Greater:\", greater)"
   ],
   "execution_count": null,
   "outputs": []
  },
  {
   "cell_type": "markdown",
   "metadata": {},
   "source": [
    "## ✖️ Matrix Multiplication and Batch Operations"
   ]
  },
  {
   "cell_type": "code",
   "metadata": {},
   "source": [
    "mat1 = tf.constant([[1, 2], [3, 4]])\n",
    "mat2 = tf.constant([[5, 6], [7, 8]])\n",
    "\n",
    "matmul_result = tf.matmul(mat1, mat2)\n",
    "\n",
    "print(\"Matrix Multiplication Result:\\n\", matmul_result)"
   ],
   "execution_count": null,
   "outputs": []
  },
  {
   "cell_type": "markdown",
   "metadata": {},
   "source": [
    "## Broadcasting and Other Useful Operations"
   ]
  },
  {
   "cell_type": "code",
   "metadata": {},
   "source": [
    "x = tf.constant([[1, 2, 3]])\n",
    "y = tf.constant([[1], [2], [3]])\n",
    "\n",
    "broadcast_result = x + y\n",
    "\n",
    "print(\"Broadcast Result:\\n\", broadcast_result)"
   ],
   "execution_count": null,
   "outputs": []
  },
  {
   "cell_type": "markdown",
   "metadata": {},
   "source": [
    "## 🔍 Tensor Indexing"
   ]
  },
  {
   "cell_type": "code",
   "metadata": {},
   "source": [
    "tensor = tf.constant([[10, 20], [30, 40], [50, 60]])\n",
    "\n",
    "print(\"First row:\", tensor[0])\n",
    "print(\"Element [2,1]:\", tensor[2, 1])\n",
    "print(\"All rows, first column:\", tensor[:, 0])"
   ],
   "execution_count": null,
   "outputs": []
  },
  {
   "cell_type": "markdown",
   "metadata": {},
   "source": [
    "## Tensor Reshaping"
   ]
  },
  {
   "cell_type": "code",
   "metadata": {},
   "source": [
    "original = tf.constant([[1, 2, 3, 4], [5, 6, 7, 8]])\n",
    "reshaped = tf.reshape(original, shape=(4, 2))\n",
    "\n",
    "print(\"Original:\\n\", original)\n",
    "print(\"Reshaped:\\n\", reshaped)"
   ],
   "execution_count": null,
   "outputs": []
  },
  {
   "cell_type": "markdown",
   "metadata": {},
   "source": [
    "---\n",
    " That’s it! You’ve covered the fundamentals of working with tensors in TensorFlow.\n",
    "\n",
    "If you'd like, explore more by trying your own tensor operations below! 🚀"
   ]
  }
 ],
 "metadata": {
  "kernelspec": {
   "display_name": "Python 3",
   "language": "python",
   "name": "python3"
  },
  "language_info": {
   "name": "python",
   "version": "3.x"
  }
 },
 "nbformat": 4,
 "nbformat_minor": 5
}
